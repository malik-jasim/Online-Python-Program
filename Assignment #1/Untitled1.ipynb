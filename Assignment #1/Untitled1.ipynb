{
 "cells": [
  {
   "cell_type": "code",
   "execution_count": 1,
   "id": "687f015e",
   "metadata": {},
   "outputs": [
    {
     "ename": "SyntaxError",
     "evalue": "unexpected EOF while parsing (<ipython-input-1-86f02846f198>, line 6)",
     "output_type": "error",
     "traceback": [
      "\u001b[1;36m  File \u001b[1;32m\"<ipython-input-1-86f02846f198>\"\u001b[1;36m, line \u001b[1;32m6\u001b[0m\n\u001b[1;33m    if percent < 100 and percent >= 80:\u001b[0m\n\u001b[1;37m                                       ^\u001b[0m\n\u001b[1;31mSyntaxError\u001b[0m\u001b[1;31m:\u001b[0m unexpected EOF while parsing\n"
     ]
    }
   ],
   "source": [
    "eng = 70;\n",
    "isl = 100;\n",
    "maths = 95;\n",
    "total = 300;\n",
    "percent = (eng + isl + maths)/total*100\n",
    "if percent < 100 and percent >= 80:"
   ]
  },
  {
   "cell_type": "code",
   "execution_count": 4,
   "id": "81b645f9",
   "metadata": {},
   "outputs": [
    {
     "name": "stdout",
     "output_type": "stream",
     "text": [
      "Enter english marks 75\n",
      "Enter Islamiat Marks 100\n",
      "Enter maths marks85\n"
     ]
    },
    {
     "ename": "TypeError",
     "evalue": "unsupported operand type(s) for /: 'str' and 'int'",
     "output_type": "error",
     "traceback": [
      "\u001b[1;31m---------------------------------------------------------------------------\u001b[0m",
      "\u001b[1;31mTypeError\u001b[0m                                 Traceback (most recent call last)",
      "\u001b[1;32m<ipython-input-4-5631fd5b72fc>\u001b[0m in \u001b[0;36m<module>\u001b[1;34m\u001b[0m\n\u001b[0;32m      3\u001b[0m \u001b[0mmaths\u001b[0m \u001b[1;33m=\u001b[0m \u001b[0minput\u001b[0m\u001b[1;33m(\u001b[0m\u001b[1;34m\"Enter maths marks\"\u001b[0m\u001b[1;33m)\u001b[0m\u001b[1;33m;\u001b[0m\u001b[1;33m\u001b[0m\u001b[1;33m\u001b[0m\u001b[0m\n\u001b[0;32m      4\u001b[0m \u001b[0mtotal\u001b[0m \u001b[1;33m=\u001b[0m \u001b[1;36m300\u001b[0m\u001b[1;33m;\u001b[0m\u001b[1;33m\u001b[0m\u001b[1;33m\u001b[0m\u001b[0m\n\u001b[1;32m----> 5\u001b[1;33m \u001b[0mpercent\u001b[0m \u001b[1;33m=\u001b[0m \u001b[1;33m(\u001b[0m\u001b[0meng\u001b[0m \u001b[1;33m+\u001b[0m \u001b[0misl\u001b[0m \u001b[1;33m+\u001b[0m \u001b[0mmaths\u001b[0m\u001b[1;33m)\u001b[0m\u001b[1;33m/\u001b[0m\u001b[0mtotal\u001b[0m\u001b[1;33m*\u001b[0m\u001b[1;36m100\u001b[0m\u001b[1;33m\u001b[0m\u001b[1;33m\u001b[0m\u001b[0m\n\u001b[0m\u001b[0;32m      6\u001b[0m \u001b[1;32mif\u001b[0m \u001b[0mpercent\u001b[0m \u001b[1;33m<\u001b[0m \u001b[1;36m100\u001b[0m \u001b[1;32mand\u001b[0m \u001b[0mpercent\u001b[0m \u001b[1;33m>=\u001b[0m \u001b[1;36m80\u001b[0m\u001b[1;33m:\u001b[0m\u001b[1;33m\u001b[0m\u001b[1;33m\u001b[0m\u001b[0m\n\u001b[0;32m      7\u001b[0m     \u001b[0mprint\u001b[0m\u001b[1;33m(\u001b[0m\u001b[1;34m\"A+\"\u001b[0m\u001b[1;33m)\u001b[0m\u001b[1;33m;\u001b[0m\u001b[1;33m\u001b[0m\u001b[1;33m\u001b[0m\u001b[0m\n",
      "\u001b[1;31mTypeError\u001b[0m: unsupported operand type(s) for /: 'str' and 'int'"
     ]
    }
   ],
   "source": [
    "eng = input(\"Enter english marks\");\n",
    "isl = input(\"Enter Islamiat Marks\");\n",
    "maths = input(\"Enter maths marks\");\n",
    "total = 300;\n",
    "percent = (eng + isl + maths)/total*100\n",
    "if percent < 100 and percent >= 80:\n",
    "    print(\"A+\");\n",
    "elif percent < 80 and percent >= 70:\n",
    "    print(\"A\");\n",
    "elif percent < 70 and percent >= 60:\n",
    "    print(\"B\");\n",
    "elif percent < 60 and percent >= 50:\n",
    "    print(\"C\");\n",
    "elif percent < 50 and percent >= 40:\n",
    "    print(\"D\");\n",
    "elif percent < 40 and percent >= 33:\n",
    "    print(\"E\");\n",
    "elif percent < 0 and percent > 100:\n",
    "    print(\"you did not write correct percent\");\n",
    "else:\n",
    "    print(\"Fail\");"
   ]
  },
  {
   "cell_type": "code",
   "execution_count": 5,
   "id": "da20be3f",
   "metadata": {},
   "outputs": [
    {
     "name": "stdout",
     "output_type": "stream",
     "text": [
      "Enter a value 23\n"
     ]
    },
    {
     "ename": "TypeError",
     "evalue": "can only concatenate str (not \"int\") to str",
     "output_type": "error",
     "traceback": [
      "\u001b[1;31m---------------------------------------------------------------------------\u001b[0m",
      "\u001b[1;31mTypeError\u001b[0m                                 Traceback (most recent call last)",
      "\u001b[1;32m<ipython-input-5-2c2ac93f2e2d>\u001b[0m in \u001b[0;36m<module>\u001b[1;34m\u001b[0m\n\u001b[0;32m      1\u001b[0m \u001b[0mx\u001b[0m \u001b[1;33m=\u001b[0m \u001b[0minput\u001b[0m\u001b[1;33m(\u001b[0m\u001b[1;34m\"Enter a value\"\u001b[0m\u001b[1;33m)\u001b[0m\u001b[1;33m;\u001b[0m\u001b[1;33m\u001b[0m\u001b[1;33m\u001b[0m\u001b[0m\n\u001b[0;32m      2\u001b[0m \u001b[0my\u001b[0m \u001b[1;33m=\u001b[0m \u001b[1;36m25\u001b[0m\u001b[1;33m;\u001b[0m\u001b[1;33m\u001b[0m\u001b[1;33m\u001b[0m\u001b[0m\n\u001b[1;32m----> 3\u001b[1;33m \u001b[0mz\u001b[0m \u001b[1;33m=\u001b[0m \u001b[0mx\u001b[0m \u001b[1;33m+\u001b[0m \u001b[0my\u001b[0m\u001b[1;33m;\u001b[0m\u001b[1;33m\u001b[0m\u001b[1;33m\u001b[0m\u001b[0m\n\u001b[0m\u001b[0;32m      4\u001b[0m \u001b[0mprint\u001b[0m\u001b[1;33m(\u001b[0m\u001b[0mz\u001b[0m\u001b[1;33m)\u001b[0m\u001b[1;33m;\u001b[0m\u001b[1;33m\u001b[0m\u001b[1;33m\u001b[0m\u001b[0m\n",
      "\u001b[1;31mTypeError\u001b[0m: can only concatenate str (not \"int\") to str"
     ]
    }
   ],
   "source": [
    "x = input(\"Enter a value\");\n",
    "y = 25;\n",
    "z = x + y;\n",
    "print(z);"
   ]
  },
  {
   "cell_type": "code",
   "execution_count": 6,
   "id": "88fcb170",
   "metadata": {},
   "outputs": [
    {
     "name": "stdout",
     "output_type": "stream",
     "text": [
      "Enter a value 35\n",
      "60\n"
     ]
    }
   ],
   "source": [
    "x = int(input(\"Enter a value\"));\n",
    "y = 25;\n",
    "z = (x) + y;\n",
    "print(z);"
   ]
  },
  {
   "cell_type": "code",
   "execution_count": 7,
   "id": "c2db10bc",
   "metadata": {},
   "outputs": [
    {
     "name": "stdout",
     "output_type": "stream",
     "text": [
      "Enter a value 45\n"
     ]
    },
    {
     "ename": "TypeError",
     "evalue": "can only concatenate str (not \"int\") to str",
     "output_type": "error",
     "traceback": [
      "\u001b[1;31m---------------------------------------------------------------------------\u001b[0m",
      "\u001b[1;31mTypeError\u001b[0m                                 Traceback (most recent call last)",
      "\u001b[1;32m<ipython-input-7-a37f68abfa06>\u001b[0m in \u001b[0;36m<module>\u001b[1;34m\u001b[0m\n\u001b[0;32m      1\u001b[0m \u001b[0mx\u001b[0m \u001b[1;33m=\u001b[0m \u001b[0minput\u001b[0m\u001b[1;33m(\u001b[0m\u001b[1;34m\"Enter a value\"\u001b[0m\u001b[1;33m)\u001b[0m\u001b[1;33m;\u001b[0m\u001b[1;33m\u001b[0m\u001b[1;33m\u001b[0m\u001b[0m\n\u001b[0;32m      2\u001b[0m \u001b[0my\u001b[0m \u001b[1;33m=\u001b[0m \u001b[1;36m25\u001b[0m\u001b[1;33m;\u001b[0m\u001b[1;33m\u001b[0m\u001b[1;33m\u001b[0m\u001b[0m\n\u001b[1;32m----> 3\u001b[1;33m \u001b[0mz\u001b[0m \u001b[1;33m=\u001b[0m \u001b[1;33m(\u001b[0m\u001b[0mx\u001b[0m\u001b[1;33m)\u001b[0m \u001b[1;33m+\u001b[0m \u001b[0my\u001b[0m\u001b[1;33m;\u001b[0m\u001b[1;33m\u001b[0m\u001b[1;33m\u001b[0m\u001b[0m\n\u001b[0m\u001b[0;32m      4\u001b[0m \u001b[0mprint\u001b[0m\u001b[1;33m(\u001b[0m\u001b[0mz\u001b[0m\u001b[1;33m)\u001b[0m\u001b[1;33m;\u001b[0m\u001b[1;33m\u001b[0m\u001b[1;33m\u001b[0m\u001b[0m\n",
      "\u001b[1;31mTypeError\u001b[0m: can only concatenate str (not \"int\") to str"
     ]
    }
   ],
   "source": [
    "x = input(\"Enter a value\");\n",
    "y = 25;\n",
    "z = (x) + y;\n",
    "print(z);"
   ]
  },
  {
   "cell_type": "code",
   "execution_count": 8,
   "id": "46cf0af5",
   "metadata": {},
   "outputs": [
    {
     "name": "stdout",
     "output_type": "stream",
     "text": [
      "Enter a value 45\n",
      "70\n"
     ]
    }
   ],
   "source": [
    "x = input(\"Enter a value\");\n",
    "y = 25;\n",
    "z = int(x) + y;\n",
    "print(z);"
   ]
  },
  {
   "cell_type": "code",
   "execution_count": 9,
   "id": "4ecfbff2",
   "metadata": {},
   "outputs": [
    {
     "ename": "SyntaxError",
     "evalue": "invalid syntax (<ipython-input-9-f2fe630cb566>, line 1)",
     "output_type": "error",
     "traceback": [
      "\u001b[1;36m  File \u001b[1;32m\"<ipython-input-9-f2fe630cb566>\"\u001b[1;36m, line \u001b[1;32m1\u001b[0m\n\u001b[1;33m    eng = int(input(\"Enter english marks\");\u001b[0m\n\u001b[1;37m                                          ^\u001b[0m\n\u001b[1;31mSyntaxError\u001b[0m\u001b[1;31m:\u001b[0m invalid syntax\n"
     ]
    }
   ],
   "source": [
    "eng = int(input(\"Enter english marks\");\n",
    "isl = int(input(\"Enter Islamiat Marks\");\n",
    "maths = int(input(\"Enter maths marks\"));\n",
    "total = 300;\n",
    "percent = (eng + isl + maths)/total*100\n",
    "if percent < 100 and percent >= 80:\n",
    "    print(\"A+\");\n",
    "elif percent < 80 and percent >= 70:\n",
    "    print(\"A\");\n",
    "elif percent < 70 and percent >= 60:\n",
    "    print(\"B\");\n",
    "elif percent < 60 and percent >= 50:\n",
    "    print(\"C\");\n",
    "elif percent < 50 and percent >= 40:\n",
    "    print(\"D\");\n",
    "elif percent < 40 and percent >= 33:\n",
    "    print(\"E\");\n",
    "elif percent < 0 and percent > 100:\n",
    "    print(\"you did not write correct percent\");\n",
    "else:\n",
    "    print(\"Fail\");"
   ]
  },
  {
   "cell_type": "code",
   "execution_count": 11,
   "id": "ad8d0edd",
   "metadata": {},
   "outputs": [
    {
     "name": "stdout",
     "output_type": "stream",
     "text": [
      "Enter english marks75\n",
      "Enter Islamiat Marks65\n",
      "Enter maths marks55\n",
      "B\n"
     ]
    }
   ],
   "source": [
    "eng = int(input(\"Enter english marks\"));\n",
    "isl = int(input(\"Enter Islamiat Marks\"));\n",
    "maths = int(input(\"Enter maths marks\"));\n",
    "total = 300;\n",
    "percent = (eng + isl + maths)/total*100\n",
    "if percent < 100 and percent >= 80:\n",
    "    print(\"A+\");\n",
    "elif percent < 80 and percent >= 70:\n",
    "    print(\"A\");\n",
    "elif percent < 70 and percent >= 60:\n",
    "    print(\"B\");\n",
    "elif percent < 60 and percent >= 50:\n",
    "    print(\"C\");\n",
    "elif percent < 50 and percent >= 40:\n",
    "    print(\"D\");\n",
    "elif percent < 40 and percent >= 33:\n",
    "    print(\"E\");\n",
    "elif percent < 0 and percent > 100:\n",
    "    print(\"you did not write correct percent\");\n",
    "else:\n",
    "    print(\"Fail\");"
   ]
  },
  {
   "cell_type": "code",
   "execution_count": 12,
   "id": "1e4fb584",
   "metadata": {},
   "outputs": [
    {
     "name": "stdout",
     "output_type": "stream",
     "text": [
      "9\n"
     ]
    }
   ],
   "source": [
    "x = 3**2\n",
    "print(x);"
   ]
  },
  {
   "cell_type": "code",
   "execution_count": 13,
   "id": "c8d6771c",
   "metadata": {},
   "outputs": [
    {
     "name": "stdout",
     "output_type": "stream",
     "text": [
      "81\n"
     ]
    }
   ],
   "source": [
    "y = 3**4\n",
    "print(y);"
   ]
  },
  {
   "cell_type": "code",
   "execution_count": 14,
   "id": "9c9f496f",
   "metadata": {},
   "outputs": [
    {
     "name": "stdout",
     "output_type": "stream",
     "text": [
      "Hello \n",
      " World\n"
     ]
    }
   ],
   "source": [
    "print(\"Hello \\n World\")"
   ]
  },
  {
   "cell_type": "code",
   "execution_count": 15,
   "id": "1a49d713",
   "metadata": {},
   "outputs": [
    {
     "name": "stdout",
     "output_type": "stream",
     "text": [
      "Hello\n",
      "World\n"
     ]
    }
   ],
   "source": [
    "print(\"Hello\\nWorld\")"
   ]
  },
  {
   "cell_type": "code",
   "execution_count": 16,
   "id": "49ce683a",
   "metadata": {},
   "outputs": [
    {
     "ename": "SyntaxError",
     "evalue": "unexpected EOF while parsing (<ipython-input-16-d0b43251142a>, line 7)",
     "output_type": "error",
     "traceback": [
      "\u001b[1;36m  File \u001b[1;32m\"<ipython-input-16-d0b43251142a>\"\u001b[1;36m, line \u001b[1;32m7\u001b[0m\n\u001b[1;33m    else:\u001b[0m\n\u001b[1;37m         ^\u001b[0m\n\u001b[1;31mSyntaxError\u001b[0m\u001b[1;31m:\u001b[0m unexpected EOF while parsing\n"
     ]
    }
   ],
   "source": [
    "x = 10;\n",
    "y = 12;\n",
    "a = 30;\n",
    "b = 8;\n",
    "if x+y == a-b:\n",
    "    print(true);\n",
    "else:"
   ]
  },
  {
   "cell_type": "code",
   "execution_count": 17,
   "id": "585b2424",
   "metadata": {},
   "outputs": [
    {
     "name": "stdout",
     "output_type": "stream",
     "text": [
      "True\n"
     ]
    }
   ],
   "source": [
    "x = 10;\n",
    "y = 12;\n",
    "a = 30;\n",
    "b = 8;\n",
    "if x+y == a-b:\n",
    "    print(True);\n",
    "else:\n",
    "    print(False);"
   ]
  },
  {
   "cell_type": "code",
   "execution_count": 21,
   "id": "b57dff6b",
   "metadata": {},
   "outputs": [
    {
     "name": "stdout",
     "output_type": "stream",
     "text": [
      "Enter age15\n",
      "Enter gendermale\n",
      "Allow\n"
     ]
    }
   ],
   "source": [
    "age = int(input(\"Enter age\"));\n",
    "gender = input(\"Enter gender\");\n",
    "if age >= 18 or gender == \"male\":\n",
    "    print(\"Allow\");\n",
    "else:\n",
    "    print(\"Donot allow\")"
   ]
  },
  {
   "cell_type": "code",
   "execution_count": 23,
   "id": "b6388003",
   "metadata": {},
   "outputs": [
    {
     "name": "stdout",
     "output_type": "stream",
     "text": [
      "[112, 6]\n"
     ]
    }
   ],
   "source": [
    "# Learning list\n",
    "\n",
    "arr = [112,6];\n",
    "print(arr);"
   ]
  },
  {
   "cell_type": "code",
   "execution_count": 24,
   "id": "1f13efa1",
   "metadata": {},
   "outputs": [
    {
     "name": "stdout",
     "output_type": "stream",
     "text": [
      "Hello world\n"
     ]
    }
   ],
   "source": [
    "\"\"\"We are learning python\n",
    "learning list now\"\"\"\n",
    "\n",
    "print(\"Hello world\")"
   ]
  },
  {
   "cell_type": "code",
   "execution_count": 26,
   "id": "dbea9682",
   "metadata": {},
   "outputs": [
    {
     "name": "stdout",
     "output_type": "stream",
     "text": [
      "Zulqi,Rani,Ehsan,Samina,Bilal,Annad\n"
     ]
    }
   ],
   "source": [
    "name1 = \"Zulqi\";\n",
    "name2 = \"Rani\";\n",
    "name3 = \"Ehsan\";\n",
    "name4 = \"Samina\";\n",
    "name5 = \"Bilal\";\n",
    "name6 = \"Annad\";\n",
    "print(name1+\",\"+name2+\",\"+name3+\",\"+name4+\",\"+name5+\",\"+name6)"
   ]
  },
  {
   "cell_type": "code",
   "execution_count": 27,
   "id": "b44e6c32",
   "metadata": {},
   "outputs": [
    {
     "name": "stdout",
     "output_type": "stream",
     "text": [
      "['Zulqi', 'Rani', 'Ehsan', 'Samina', 'Bilal', 'Annad']\n"
     ]
    }
   ],
   "source": [
    "# List\n",
    "\n",
    "name = [\"Zulqi\", \"Rani\", \"Ehsan\", \"Samina\", \"Bilal\", \"Annad\"];\n",
    "print(name)"
   ]
  },
  {
   "cell_type": "code",
   "execution_count": 28,
   "id": "158c7e28",
   "metadata": {},
   "outputs": [
    {
     "name": "stdout",
     "output_type": "stream",
     "text": [
      "Zulqi\n"
     ]
    }
   ],
   "source": [
    "print(name[0]);"
   ]
  },
  {
   "cell_type": "code",
   "execution_count": 29,
   "id": "f396f5de",
   "metadata": {},
   "outputs": [
    {
     "name": "stdout",
     "output_type": "stream",
     "text": [
      "['Zulqi', 'Jasim', 'Ehsan', 'Samina', 'Bilal', 'Annad']\n"
     ]
    }
   ],
   "source": [
    "name[1]=\"Jasim\";\n",
    "print(name);"
   ]
  },
  {
   "cell_type": "code",
   "execution_count": 30,
   "id": "7eb51198",
   "metadata": {},
   "outputs": [
    {
     "name": "stdout",
     "output_type": "stream",
     "text": [
      "['Zulqi', 'Jasim', 'Ehsan', 'Samina', 'Bilal', 'Annad', 'Ahmed']\n"
     ]
    }
   ],
   "source": [
    "name.append(\"Ahmed\");\n",
    "print(name);"
   ]
  },
  {
   "cell_type": "code",
   "execution_count": 31,
   "id": "f9fa0db2",
   "metadata": {},
   "outputs": [
    {
     "name": "stdout",
     "output_type": "stream",
     "text": [
      "['lion', 12, True, 5.69]\n"
     ]
    }
   ],
   "source": [
    "arr = [\"lion\",12,True,5.69]\n",
    "print(arr)"
   ]
  },
  {
   "cell_type": "code",
   "execution_count": 32,
   "id": "37d0e843",
   "metadata": {},
   "outputs": [
    {
     "data": {
      "text/plain": [
       "['Zulqi', 'Jasim', 'Ehsan', 'Samina', 'Bilal', 'Annad', 'Ahmed']"
      ]
     },
     "execution_count": 32,
     "metadata": {},
     "output_type": "execute_result"
    }
   ],
   "source": [
    "name"
   ]
  },
  {
   "cell_type": "code",
   "execution_count": 33,
   "id": "c6413c4a",
   "metadata": {},
   "outputs": [
    {
     "name": "stdout",
     "output_type": "stream",
     "text": [
      "['Zulqi', 'Jasim', 'Ehsan', 'Samina', 'Bilal', 'Annad', 'Ahmed', 'lion', 12, True, 5.69]\n"
     ]
    }
   ],
   "source": [
    "newList = name + arr;\n",
    "print(newList);"
   ]
  },
  {
   "cell_type": "code",
   "execution_count": 34,
   "id": "05786bdd",
   "metadata": {},
   "outputs": [
    {
     "data": {
      "text/plain": [
       "['Zulqi', 'Jasim', 'Ehsan', 'Samina', 'Bilal', 'Annad', 'Ahmed']"
      ]
     },
     "execution_count": 34,
     "metadata": {},
     "output_type": "execute_result"
    }
   ],
   "source": [
    "name "
   ]
  },
  {
   "cell_type": "code",
   "execution_count": 37,
   "id": "b3842fef",
   "metadata": {},
   "outputs": [
    {
     "ename": "AttributeError",
     "evalue": "'NoneType' object has no attribute 'insert'",
     "output_type": "error",
     "traceback": [
      "\u001b[1;31m---------------------------------------------------------------------------\u001b[0m",
      "\u001b[1;31mAttributeError\u001b[0m                            Traceback (most recent call last)",
      "\u001b[1;32m<ipython-input-37-b3a8d0590a80>\u001b[0m in \u001b[0;36m<module>\u001b[1;34m\u001b[0m\n\u001b[1;32m----> 1\u001b[1;33m \u001b[0mname\u001b[0m \u001b[1;33m=\u001b[0m \u001b[0mname\u001b[0m\u001b[1;33m.\u001b[0m\u001b[0minsert\u001b[0m\u001b[1;33m(\u001b[0m\u001b[1;36m3\u001b[0m\u001b[1;33m,\u001b[0m\u001b[1;34m\"Rashid\"\u001b[0m\u001b[1;33m)\u001b[0m\u001b[1;33m\u001b[0m\u001b[1;33m\u001b[0m\u001b[0m\n\u001b[0m\u001b[0;32m      2\u001b[0m \u001b[0mprint\u001b[0m\u001b[1;33m(\u001b[0m\u001b[0mname\u001b[0m\u001b[1;33m)\u001b[0m\u001b[1;33m\u001b[0m\u001b[1;33m\u001b[0m\u001b[0m\n",
      "\u001b[1;31mAttributeError\u001b[0m: 'NoneType' object has no attribute 'insert'"
     ]
    }
   ],
   "source": [
    "name = name.insert(3,\"Rashid\")\n",
    "print(name)"
   ]
  },
  {
   "cell_type": "code",
   "execution_count": 36,
   "id": "5545cbf9",
   "metadata": {},
   "outputs": [
    {
     "name": "stdout",
     "output_type": "stream",
     "text": [
      "None\n"
     ]
    }
   ],
   "source": [
    "print(name);"
   ]
  },
  {
   "cell_type": "code",
   "execution_count": 38,
   "id": "14ec2e3c",
   "metadata": {},
   "outputs": [
    {
     "name": "stdout",
     "output_type": "stream",
     "text": [
      "['lion', 12, True, 5.69]\n"
     ]
    }
   ],
   "source": [
    "arr = [\"lion\",12,True,5.69]\n",
    "print(arr)"
   ]
  },
  {
   "cell_type": "code",
   "execution_count": 47,
   "id": "39ecdd78",
   "metadata": {},
   "outputs": [
    {
     "name": "stdout",
     "output_type": "stream",
     "text": [
      "['lion', 12, 'Raza', 'Raza', True, 5.69]\n"
     ]
    }
   ],
   "source": [
    "arr.insert(2,\"Raza\")\n",
    "print(arr)"
   ]
  },
  {
   "cell_type": "code",
   "execution_count": 40,
   "id": "e2e3aef4",
   "metadata": {},
   "outputs": [
    {
     "name": "stdout",
     "output_type": "stream",
     "text": [
      "['Raza', True]\n"
     ]
    }
   ],
   "source": [
    "arr2 = arr[2:4]\n",
    "print(arr2);"
   ]
  },
  {
   "cell_type": "code",
   "execution_count": 41,
   "id": "8d564d52",
   "metadata": {},
   "outputs": [
    {
     "data": {
      "text/plain": [
       "['lion', 12, 'Raza', True, 5.69]"
      ]
     },
     "execution_count": 41,
     "metadata": {},
     "output_type": "execute_result"
    }
   ],
   "source": [
    "arr"
   ]
  },
  {
   "cell_type": "code",
   "execution_count": 42,
   "id": "ffcf2f09",
   "metadata": {},
   "outputs": [
    {
     "data": {
      "text/plain": [
       "['Raza', True]"
      ]
     },
     "execution_count": 42,
     "metadata": {},
     "output_type": "execute_result"
    }
   ],
   "source": [
    "arr2\n"
   ]
  },
  {
   "cell_type": "code",
   "execution_count": 45,
   "id": "d3503cae",
   "metadata": {},
   "outputs": [
    {
     "name": "stdout",
     "output_type": "stream",
     "text": [
      "['Raza', True, 5.69]\n"
     ]
    }
   ],
   "source": [
    "arr3 = arr[2:5]\n",
    "print(arr3)"
   ]
  },
  {
   "cell_type": "code",
   "execution_count": 46,
   "id": "7779fe5f",
   "metadata": {},
   "outputs": [
    {
     "name": "stdout",
     "output_type": "stream",
     "text": [
      "['lion', 12, 'Raza']\n"
     ]
    }
   ],
   "source": [
    "arr4 = arr[:3]\n",
    "print(arr4)"
   ]
  },
  {
   "cell_type": "code",
   "execution_count": 49,
   "id": "a85d67ae",
   "metadata": {},
   "outputs": [
    {
     "name": "stdout",
     "output_type": "stream",
     "text": [
      "['lion', 12, True, 5.69]\n"
     ]
    }
   ],
   "source": [
    "del arr[2]\n",
    "print(arr);"
   ]
  },
  {
   "cell_type": "code",
   "execution_count": 50,
   "id": "5712a239",
   "metadata": {},
   "outputs": [
    {
     "name": "stdout",
     "output_type": "stream",
     "text": [
      "['lion', True, 5.69]\n"
     ]
    }
   ],
   "source": [
    "arr.remove(12);\n",
    "print(arr);"
   ]
  },
  {
   "cell_type": "code",
   "execution_count": 51,
   "id": "2ed799d7",
   "metadata": {},
   "outputs": [
    {
     "name": "stdout",
     "output_type": "stream",
     "text": [
      "['lion', True]\n"
     ]
    }
   ],
   "source": [
    "arr.pop()\n",
    "print(arr);"
   ]
  },
  {
   "cell_type": "code",
   "execution_count": null,
   "id": "01a644b7",
   "metadata": {},
   "outputs": [],
   "source": []
  }
 ],
 "metadata": {
  "kernelspec": {
   "display_name": "Python 3",
   "language": "python",
   "name": "python3"
  },
  "language_info": {
   "codemirror_mode": {
    "name": "ipython",
    "version": 3
   },
   "file_extension": ".py",
   "mimetype": "text/x-python",
   "name": "python",
   "nbconvert_exporter": "python",
   "pygments_lexer": "ipython3",
   "version": "3.8.8"
  }
 },
 "nbformat": 4,
 "nbformat_minor": 5
}
